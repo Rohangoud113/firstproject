{
 "cells": [
  {
   "cell_type": "code",
   "execution_count": 1,
   "id": "c31ed577-13b1-4fa1-95ba-e6b7ae4c11e0",
   "metadata": {},
   "outputs": [],
   "source": [
    "import cv2\n",
    "import mediapipe as mp\n",
    "import pyautogui\n",
    "import util\n",
    "import random\n",
    "from pynput.mouse import Button, Controller\n",
    "mouse=Controller()"
   ]
  },
  {
   "cell_type": "code",
   "execution_count": 2,
   "id": "af7ff339-160b-4d45-8cc0-5b7ab4c68e99",
   "metadata": {},
   "outputs": [],
   "source": [
    "screen_width, screen_heigth=pyautogui.size()\n",
    "mouse=Controller()\n",
    "mpHands=mp.solutions.hands\n",
    "hands=mpHands.Hands(\n",
    "    static_image_mode=False,\n",
    "    model_complexity=1,\n",
    "    min_detection_confidence=0.7,\n",
    "    min_tracking_confidence=0.7,\n",
    "    max_num_hands=1\n",
    ")"
   ]
  },
  {
   "cell_type": "code",
   "execution_count": 3,
   "id": "e2b48a68-04e3-4997-96bb-31cc7d3b4248",
   "metadata": {},
   "outputs": [],
   "source": [
    "def move_mouse(index_finger_tip):\n",
    "    if index_finger_tip is not None:\n",
    "        x=int(index_finger_tip.x*screen_width)\n",
    "        y=int(index_finger_tip.y*screen_heigth)\n",
    "        pyautogui.moveTo(x,y)"
   ]
  },
  {
   "cell_type": "code",
   "execution_count": 4,
   "id": "68abde1b-e64c-45c1-8525-d3a08de45e41",
   "metadata": {},
   "outputs": [],
   "source": [
    "def is_left_click(landmarks_list, thumb_index_dist):\n",
    "    return (util.get_angle(landmarks_list[5],landmarks_list[6],landmarks_list[8])<50 and \n",
    "            util.get_angle(landmarks_list[9],landmarks_list[10],landmarks_list[12])>90 and \n",
    "            thumb_index_dist>50)\n",
    "def is_right_click(landmarks_list, thumb_index_dist):\n",
    "    return (util.get_angle(landmarks_list[5],landmarks_list[6],landmarks_list[8])>90 and \n",
    "            util.get_angle(landmarks_list[9],landmarks_list[10],landmarks_list[12])<50 and \n",
    "            thumb_index_dist>50)\n",
    "def is_double_click(landmarks_list, thumb_index_dist):\n",
    "    return (util.get_angle(landmarks_list[5],landmarks_list[6],landmarks_list[8])<50 and \n",
    "            util.get_angle(landmarks_list[9],landmarks_list[10],landmarks_list[12])<50 and \n",
    "            thumb_index_dist>50)\n",
    "def is_screenshot(landmarks_list, thumb_index_dist):\n",
    "    return (util.get_angle(landmarks_list[5],landmarks_list[6],landmarks_list[8])<50 and \n",
    "            util.get_angle(landmarks_list[9],landmarks_list[10],landmarks_list[12])<50 and \n",
    "            thumb_index_dist<50)\n"
   ]
  },
  {
   "cell_type": "code",
   "execution_count": 5,
   "id": "29c5f08f-130c-46b3-ab8a-f81daedca524",
   "metadata": {},
   "outputs": [],
   "source": [
    "def find_finger_tip(processed):\n",
    "    if processed.multi_hand_landmarks:\n",
    "        hand_landmarks=processed.multi_hand_landmarks[0]\n",
    "        return hand_landmarks.landmark[mpHands.HandLandmark.INDEX_FINGER_TIP]\n",
    "    return None"
   ]
  },
  {
   "cell_type": "code",
   "execution_count": 6,
   "id": "2e4a03f7-a094-43b5-b4d8-74d8ee8f3f09",
   "metadata": {},
   "outputs": [],
   "source": [
    "def detect_gestures(frame,landmarks_list,processed):\n",
    "    if len(landmarks_list)>=21:\n",
    "        \n",
    "        index_finger_tip = find_finger_tip(processed)\n",
    "        #print(index_finger_tip)\n",
    "        thumb_index_dist=util.get_distance([landmarks_list[4],landmarks_list[5]])\n",
    "        if thumb_index_dist<50 and util.get_angle(landmarks_list[5],landmarks_list[6],landmarks_list[8])>90:\n",
    "            move_mouse(index_finger_tip)\n",
    "        elif is_left_click(landmarks_list, thumb_index_dist):\n",
    "            mouse.press(Button.left)\n",
    "            mouse.release(Button.left)\n",
    "            cv2.putText(frame,\"Left click\",(50,50),cv2.FONT_HERSHEY_SIMPLEX,1,(0,255,0),2)\n",
    "        elif is_right_click(landmarks_list, thumb_index_dist):\n",
    "            mouse.press(Button.right)\n",
    "            mouse.release(Button.right)\n",
    "            cv2.putText(frame,\"Right click\",(50,50),cv2.FONT_HERSHEY_SIMPLEX,1,(0,0,255),2)\n",
    "        elif is_double_click(landmarks_list, thumb_index_dist):\n",
    "            pyautogui.doubleClick()\n",
    "            cv2.putText(frame,\"double click\",(50,50),cv2.FONT_HERSHEY_SIMPLEX,1,(255,255,0),2)\n",
    "        elif is_screenshot(landmarks_list, thumb_index_dist):\n",
    "            im1=pyautogui.screenshot()\n",
    "            label=random.randint(1,1000)\n",
    "            im1.save(f'my_screenshot_{label}.png')\n",
    "            cv2.putText(frame,\"screenshot taken\",(50,50),cv2.FONT_HERSHEY_SIMPLEX,1,(255,255,0),2)\n",
    "            "
   ]
  },
  {
   "cell_type": "code",
   "execution_count": null,
   "id": "31e2e47d-3641-470a-a6cf-0dfdc685d708",
   "metadata": {},
   "outputs": [],
   "source": [
    "def main():\n",
    "    cap=cv2.VideoCapture(0)\n",
    "    draw=mp.solutions.drawing_utils\n",
    "    try:\n",
    "        while cap.isOpened():\n",
    "            ret,frame=cap.read()\n",
    "            \n",
    "            if not ret:\n",
    "                break\n",
    "            frame=cv2.flip(frame,1)\n",
    "            frameRGB=cv2.cvtColor(frame, cv2.COLOR_BGR2RGB)\n",
    "            processed=hands.process(frameRGB)\n",
    "            landmarks_list=[]\n",
    "            if processed.multi_hand_landmarks:\n",
    "                hand_landmarks=processed.multi_hand_landmarks[0]\n",
    "                draw.draw_landmarks(frame,hand_landmarks,mpHands.HAND_CONNECTIONS)\n",
    "                for lm in hand_landmarks.landmark:\n",
    "                    landmarks_list.append((lm.x,lm.y))\n",
    "                #print(landmarks_list)\n",
    "            detect_gestures(frame,landmarks_list,processed)\n",
    "            \n",
    "            cv2.imshow('Frame',frame)\n",
    "            if cv2.waitKey(1) & 0xFF==ord('q'):\n",
    "                break\n",
    "    finally:\n",
    "        cap.release()\n",
    "        cv2.destroyAllWindows()\n",
    "if __name__ == '__main__':\n",
    "    main()"
   ]
  },
  {
   "cell_type": "code",
   "execution_count": null,
   "id": "cbe4219c-f2e5-4c4d-b4ca-06fb21fb24ba",
   "metadata": {},
   "outputs": [],
   "source": []
  },
  {
   "cell_type": "code",
   "execution_count": null,
   "id": "01b75804-bbfe-44fb-95e3-f7765d43ea32",
   "metadata": {},
   "outputs": [],
   "source": []
  }
 ],
 "metadata": {
  "kernelspec": {
   "display_name": "Python [conda env:base] *",
   "language": "python",
   "name": "conda-base-py"
  },
  "language_info": {
   "codemirror_mode": {
    "name": "ipython",
    "version": 3
   },
   "file_extension": ".py",
   "mimetype": "text/x-python",
   "name": "python",
   "nbconvert_exporter": "python",
   "pygments_lexer": "ipython3",
   "version": "3.12.7"
  }
 },
 "nbformat": 4,
 "nbformat_minor": 5
}
